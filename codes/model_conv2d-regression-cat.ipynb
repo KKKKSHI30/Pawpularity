{
 "cells": [
  {
   "cell_type": "code",
   "execution_count": 3,
   "metadata": {
    "execution": {
     "iopub.execute_input": "2022-12-04T01:23:57.464008Z",
     "iopub.status.busy": "2022-12-04T01:23:57.463316Z",
     "iopub.status.idle": "2022-12-04T01:23:57.470827Z",
     "shell.execute_reply": "2022-12-04T01:23:57.469850Z",
     "shell.execute_reply.started": "2022-12-04T01:23:57.463969Z"
    }
   },
   "outputs": [],
   "source": [
    "import matplotlib.pyplot as plt\n",
    "from PIL import Image\n",
    "import glob\n",
    "import sys\n",
    "import cv2\n",
    "#import imageio\n",
    "import joblib\n",
    "import math\n",
    "import warnings\n",
    "import os\n",
    "import torch\n",
    "#import imagehash\n",
    "import pandas as pd\n",
    "import matplotlib.pyplot as plt\n",
    "from pathlib import Path\n",
    "from PIL import Image\n",
    "from tensorflow import keras\n",
    "from tensorflow.keras import Input\n",
    "from tensorflow.keras.preprocessing.image import ImageDataGenerator\n",
    "from tensorflow.keras.layers import Conv2D, MaxPool2D,AveragePooling2D, Flatten, Dense, Dropout\n",
    "from tensorflow.keras.optimizers import Adam\n",
    "from tensorflow.keras.optimizers.schedules import ExponentialDecay\n",
    "from tensorflow.keras.callbacks import EarlyStopping\n",
    "from tensorflow.keras.losses import MeanSquaredError\n",
    "from tensorflow.keras.metrics import RootMeanSquaredError"
   ]
  },
  {
   "cell_type": "code",
   "execution_count": null,
   "metadata": {
    "execution": {
     "iopub.status.busy": "2022-12-04T01:23:58.147742Z",
     "iopub.status.idle": "2022-12-04T01:23:58.148331Z",
     "shell.execute_reply": "2022-12-04T01:23:58.148111Z",
     "shell.execute_reply.started": "2022-12-04T01:23:58.148083Z"
    }
   },
   "outputs": [],
   "source": [
    "train_df = pd.read_csv('/kaggle/input/590-yolo/yolotrain.csv')"
   ]
  },
  {
   "cell_type": "code",
   "execution_count": null,
   "metadata": {
    "execution": {
     "iopub.status.busy": "2022-12-04T01:23:58.149470Z",
     "iopub.status.idle": "2022-12-04T01:23:58.150049Z",
     "shell.execute_reply": "2022-12-04T01:23:58.149829Z",
     "shell.execute_reply.started": "2022-12-04T01:23:58.149801Z"
    }
   },
   "outputs": [],
   "source": [
    "train_df['label'].head(5)"
   ]
  },
  {
   "cell_type": "code",
   "execution_count": null,
   "metadata": {
    "execution": {
     "iopub.status.busy": "2022-12-04T01:23:58.151148Z",
     "iopub.status.idle": "2022-12-04T01:23:58.151771Z",
     "shell.execute_reply": "2022-12-04T01:23:58.151556Z",
     "shell.execute_reply.started": "2022-12-04T01:23:58.151529Z"
    }
   },
   "outputs": [],
   "source": [
    "train_df.drop(train_df[train_df.label == 'unknown'].index, inplace=True)"
   ]
  },
  {
   "cell_type": "code",
   "execution_count": null,
   "metadata": {
    "execution": {
     "iopub.status.busy": "2022-12-04T01:23:58.152879Z",
     "iopub.status.idle": "2022-12-04T01:23:58.153500Z",
     "shell.execute_reply": "2022-12-04T01:23:58.153264Z",
     "shell.execute_reply.started": "2022-12-04T01:23:58.153235Z"
    }
   },
   "outputs": [],
   "source": [
    "len(train_df.loc[train_df['label'] == 'dog'])"
   ]
  },
  {
   "cell_type": "code",
   "execution_count": null,
   "metadata": {
    "execution": {
     "iopub.status.busy": "2022-12-04T01:23:58.154601Z",
     "iopub.status.idle": "2022-12-04T01:23:58.155190Z",
     "shell.execute_reply": "2022-12-04T01:23:58.154965Z",
     "shell.execute_reply.started": "2022-12-04T01:23:58.154935Z"
    }
   },
   "outputs": [],
   "source": [
    "################## Regression ###################"
   ]
  },
  {
   "cell_type": "code",
   "execution_count": null,
   "metadata": {
    "execution": {
     "iopub.status.busy": "2022-12-04T01:23:58.156306Z",
     "iopub.status.idle": "2022-12-04T01:23:58.156911Z",
     "shell.execute_reply": "2022-12-04T01:23:58.156688Z",
     "shell.execute_reply.started": "2022-12-04T01:23:58.156661Z"
    }
   },
   "outputs": [],
   "source": [
    "# cat = 1, dog = 0\n",
    "train_df['label'] = (train_df['label'] == 'cat').astype(int)"
   ]
  },
  {
   "cell_type": "code",
   "execution_count": null,
   "metadata": {
    "execution": {
     "iopub.status.busy": "2022-12-04T01:23:58.161543Z",
     "iopub.status.idle": "2022-12-04T01:23:58.162118Z",
     "shell.execute_reply": "2022-12-04T01:23:58.161901Z",
     "shell.execute_reply.started": "2022-12-04T01:23:58.161873Z"
    }
   },
   "outputs": [],
   "source": [
    "train_df.drop('Unnamed: 0', axis=1, inplace=True)\n",
    "train_df['filename'] = train_df['Id']+'.jpg'\n",
    "#train_df.drop('img_path', axis=1, inplace=True)\n",
    "train_df.drop('Id', axis=1, inplace=True)\n",
    "train_df.drop('file_path', axis=1, inplace=True)\n",
    "train_df.drop('coords', axis=1, inplace=True)\n",
    "train_df.drop('x_min', axis=1, inplace=True)\n",
    "train_df.drop('x_max', axis=1, inplace=True)\n",
    "train_df.drop('y_min', axis=1, inplace=True)\n",
    "train_df.drop('y_max', axis=1, inplace=True)"
   ]
  },
  {
   "cell_type": "code",
   "execution_count": null,
   "metadata": {
    "execution": {
     "iopub.status.busy": "2022-12-04T01:23:58.164981Z",
     "iopub.status.idle": "2022-12-04T01:23:58.165598Z",
     "shell.execute_reply": "2022-12-04T01:23:58.165359Z",
     "shell.execute_reply.started": "2022-12-04T01:23:58.165335Z"
    }
   },
   "outputs": [],
   "source": [
    "cat_df = train_df.loc[train_df['label'] == 1]\n",
    "dog_df = train_df.loc[train_df['label'] == 0]\n",
    "cat_df.drop('label', axis=1, inplace=True)\n",
    "dog_df.drop('label', axis=1, inplace=True)"
   ]
  },
  {
   "cell_type": "code",
   "execution_count": null,
   "metadata": {
    "execution": {
     "iopub.status.busy": "2022-12-04T01:23:58.207862Z",
     "iopub.status.idle": "2022-12-04T01:23:58.208477Z",
     "shell.execute_reply": "2022-12-04T01:23:58.208230Z",
     "shell.execute_reply.started": "2022-12-04T01:23:58.208200Z"
    }
   },
   "outputs": [],
   "source": [
    "#######################################################################\n",
    "################################ CAT ##################################"
   ]
  },
  {
   "cell_type": "code",
   "execution_count": null,
   "metadata": {
    "execution": {
     "iopub.status.busy": "2022-12-04T01:23:58.209644Z",
     "iopub.status.idle": "2022-12-04T01:23:58.210218Z",
     "shell.execute_reply": "2022-12-04T01:23:58.210003Z",
     "shell.execute_reply.started": "2022-12-04T01:23:58.209977Z"
    }
   },
   "outputs": [],
   "source": [
    "gen_kwargs = dict(\n",
    "    dataframe=cat_df,\n",
    "    directory=Path('/kaggle/input/petfinder-pawpularity-score/train'), \n",
    "    x_col='filename',\n",
    "    y_col='Pawpularity',\n",
    "    batch_size=32,\n",
    "    seed=619,\n",
    "    shuffle=True,\n",
    "    class_mode='raw',\n",
    "    target_size=(224, 224)\n",
    ")\n",
    "datagen = ImageDataGenerator(rescale=1/255,validation_split=0.2)\n",
    "train_generator_cat =  datagen.flow_from_dataframe(**gen_kwargs, subset=\"training\")\n",
    "valid_generator_cat =  datagen.flow_from_dataframe(**gen_kwargs, subset=\"validation\")"
   ]
  },
  {
   "cell_type": "code",
   "execution_count": 4,
   "metadata": {
    "execution": {
     "iopub.execute_input": "2022-12-04T01:27:13.588315Z",
     "iopub.status.busy": "2022-12-04T01:27:13.587993Z",
     "iopub.status.idle": "2022-12-04T01:27:13.675395Z",
     "shell.execute_reply": "2022-12-04T01:27:13.674630Z",
     "shell.execute_reply.started": "2022-12-04T01:27:13.588272Z"
    }
   },
   "outputs": [],
   "source": [
    "inputs = keras.Input(shape=(224, 224, 3))\n",
    "\n",
    "X = Conv2D(filters=64, kernel_size=3, strides=2, padding='same', activation='relu')(inputs)\n",
    "X = AveragePooling2D(pool_size=(2, 2))(X)\n",
    "\n",
    "X = Conv2D(filters=128, kernel_size=3, strides=2, padding='same', activation='relu')(X)\n",
    "X = AveragePooling2D(pool_size=(2, 2))(X)\n",
    "\n",
    "X = Conv2D(filters=256, kernel_size=3, strides=2, padding='same', activation='relu')(X)\n",
    "X = AveragePooling2D(pool_size=(2, 2))(X)\n",
    "\n",
    "X = Flatten()(X)\n",
    "\n",
    "X = Dense(512, activation='relu')(X)\n",
    "X = Dropout(0.3)(X)\n",
    "\n",
    "X = Dense(128, activation='relu')(X)\n",
    "\n",
    "X = Dense(64, activation='relu')(X)\n",
    "\n",
    "X = Dense(16, activation='relu')(X)\n",
    "\n",
    "X = Dense(4, activation='relu')(X)\n",
    "\n",
    "outputs = Dense(1)(X)\n",
    "\n",
    "model = keras.Model(inputs=inputs, outputs=outputs)"
   ]
  },
  {
   "cell_type": "code",
   "execution_count": 6,
   "metadata": {},
   "outputs": [
    {
     "name": "stdout",
     "output_type": "stream",
     "text": [
      "Model: \"model\"\n",
      "_________________________________________________________________\n",
      " Layer (type)                Output Shape              Param #   \n",
      "=================================================================\n",
      " input_1 (InputLayer)        [(None, 224, 224, 3)]     0         \n",
      "                                                                 \n",
      " conv2d (Conv2D)             (None, 112, 112, 64)      1792      \n",
      "                                                                 \n",
      " average_pooling2d (AverageP  (None, 56, 56, 64)       0         \n",
      " ooling2D)                                                       \n",
      "                                                                 \n",
      " conv2d_1 (Conv2D)           (None, 28, 28, 128)       73856     \n",
      "                                                                 \n",
      " average_pooling2d_1 (Averag  (None, 14, 14, 128)      0         \n",
      " ePooling2D)                                                     \n",
      "                                                                 \n",
      " conv2d_2 (Conv2D)           (None, 7, 7, 256)         295168    \n",
      "                                                                 \n",
      " average_pooling2d_2 (Averag  (None, 3, 3, 256)        0         \n",
      " ePooling2D)                                                     \n",
      "                                                                 \n",
      " flatten (Flatten)           (None, 2304)              0         \n",
      "                                                                 \n",
      " dense (Dense)               (None, 512)               1180160   \n",
      "                                                                 \n",
      " dropout (Dropout)           (None, 512)               0         \n",
      "                                                                 \n",
      " dense_1 (Dense)             (None, 128)               65664     \n",
      "                                                                 \n",
      " dense_2 (Dense)             (None, 64)                8256      \n",
      "                                                                 \n",
      " dense_3 (Dense)             (None, 16)                1040      \n",
      "                                                                 \n",
      " dense_4 (Dense)             (None, 4)                 68        \n",
      "                                                                 \n",
      " dense_5 (Dense)             (None, 1)                 5         \n",
      "                                                                 \n",
      "=================================================================\n",
      "Total params: 1,626,009\n",
      "Trainable params: 1,626,009\n",
      "Non-trainable params: 0\n",
      "_________________________________________________________________\n"
     ]
    }
   ],
   "source": [
    "model.summary()"
   ]
  },
  {
   "cell_type": "code",
   "execution_count": 5,
   "metadata": {
    "execution": {
     "iopub.execute_input": "2022-12-04T01:27:17.704976Z",
     "iopub.status.busy": "2022-12-04T01:27:17.704630Z",
     "iopub.status.idle": "2022-12-04T01:27:17.729842Z",
     "shell.execute_reply": "2022-12-04T01:27:17.729162Z",
     "shell.execute_reply.started": "2022-12-04T01:27:17.704937Z"
    }
   },
   "outputs": [],
   "source": [
    "model.compile(\n",
    "    optimizer=Adam(learning_rate=1e-3),\n",
    "    loss='mse',\n",
    "    metrics=[RootMeanSquaredError()]\n",
    ")"
   ]
  },
  {
   "cell_type": "code",
   "execution_count": 29,
   "metadata": {
    "execution": {
     "iopub.execute_input": "2022-12-04T01:27:19.948365Z",
     "iopub.status.busy": "2022-12-04T01:27:19.947734Z",
     "iopub.status.idle": "2022-12-04T01:38:43.555483Z",
     "shell.execute_reply": "2022-12-04T01:38:43.554509Z",
     "shell.execute_reply.started": "2022-12-04T01:27:19.948325Z"
    }
   },
   "outputs": [
    {
     "name": "stdout",
     "output_type": "stream",
     "text": [
      "Epoch 1/10\n",
      "133/133 [==============================] - 69s 515ms/step - loss: 580.7891 - root_mean_squared_error: 23.7083 - val_loss: 311.9473 - val_root_mean_squared_error: 17.6620\n",
      "Epoch 2/10\n",
      "133/133 [==============================] - 69s 518ms/step - loss: 336.7910 - root_mean_squared_error: 18.3346 - val_loss: 310.5268 - val_root_mean_squared_error: 17.6218\n",
      "Epoch 3/10\n",
      "133/133 [==============================] - 69s 516ms/step - loss: 339.9320 - root_mean_squared_error: 18.4319 - val_loss: 331.6282 - val_root_mean_squared_error: 18.2107\n",
      "Epoch 4/10\n",
      "133/133 [==============================] - 68s 509ms/step - loss: 317.1765 - root_mean_squared_error: 17.8048 - val_loss: 312.6212 - val_root_mean_squared_error: 17.6811\n",
      "Epoch 5/10\n",
      "133/133 [==============================] - 68s 510ms/step - loss: 303.9951 - root_mean_squared_error: 17.4237 - val_loss: 311.7322 - val_root_mean_squared_error: 17.6559\n",
      "Epoch 6/10\n",
      "133/133 [==============================] - 68s 512ms/step - loss: 310.3347 - root_mean_squared_error: 17.6118 - val_loss: 307.5203 - val_root_mean_squared_error: 17.5363\n",
      "Epoch 7/10\n",
      "133/133 [==============================] - 68s 512ms/step - loss: 314.7347 - root_mean_squared_error: 17.7364 - val_loss: 305.6005 - val_root_mean_squared_error: 17.4814\n",
      "Epoch 8/10\n",
      "133/133 [==============================] - 68s 509ms/step - loss: 291.9714 - root_mean_squared_error: 17.0726 - val_loss: 306.0946 - val_root_mean_squared_error: 17.4956\n",
      "Epoch 9/10\n",
      "133/133 [==============================] - 69s 516ms/step - loss: 337.7959 - root_mean_squared_error: 18.3709 - val_loss: 306.0256 - val_root_mean_squared_error: 17.4936\n",
      "Epoch 10/10\n",
      "133/133 [==============================] - 69s 518ms/step - loss: 321.4743 - root_mean_squared_error: 17.9237 - val_loss: 305.0486 - val_root_mean_squared_error: 17.4656\n"
     ]
    }
   ],
   "source": [
    "history2 = model.fit(\n",
    "    train_generator_cat,\n",
    "    validation_data=valid_generator_cat,\n",
    "    epochs=10,\n",
    "    callbacks=[EarlyStopping(monitor='val_loss',\n",
    "                             patience=5,\n",
    "                             restore_best_weights=True)]\n",
    ")"
   ]
  },
  {
   "cell_type": "code",
   "execution_count": 76,
   "metadata": {
    "execution": {
     "iopub.execute_input": "2022-12-04T02:14:50.908499Z",
     "iopub.status.busy": "2022-12-04T02:14:50.908178Z",
     "iopub.status.idle": "2022-12-04T02:14:50.915457Z",
     "shell.execute_reply": "2022-12-04T02:14:50.914546Z",
     "shell.execute_reply.started": "2022-12-04T02:14:50.908463Z"
    }
   },
   "outputs": [
    {
     "data": {
      "text/plain": [
       "{'loss': [408.3161315917969,\n",
       "  321.777587890625,\n",
       "  330.0317077636719,\n",
       "  327.3998718261719,\n",
       "  320.01995849609375,\n",
       "  312.32177734375,\n",
       "  310.8185729980469,\n",
       "  308.8414306640625,\n",
       "  325.19305419921875,\n",
       "  318.40350341796875],\n",
       " 'root_mean_squared_error': [20.206832885742188,\n",
       "  17.938159942626953,\n",
       "  18.16677474975586,\n",
       "  18.094194412231445,\n",
       "  17.889101028442383,\n",
       "  17.67262840270996,\n",
       "  17.630046844482422,\n",
       "  17.573884963989258,\n",
       "  18.033109664916992,\n",
       "  17.84386444091797],\n",
       " 'val_loss': [311.94732666015625,\n",
       "  310.5268249511719,\n",
       "  331.6282043457031,\n",
       "  312.62115478515625,\n",
       "  311.7322082519531,\n",
       "  307.520263671875,\n",
       "  305.60052490234375,\n",
       "  306.0946044921875,\n",
       "  306.0256042480469,\n",
       "  305.0485534667969],\n",
       " 'val_root_mean_squared_error': [17.662031173706055,\n",
       "  17.62177085876465,\n",
       "  18.210660934448242,\n",
       "  17.681095123291016,\n",
       "  17.65593910217285,\n",
       "  17.5362548828125,\n",
       "  17.481433868408203,\n",
       "  17.495559692382812,\n",
       "  17.493587493896484,\n",
       "  17.465639114379883]}"
      ]
     },
     "execution_count": 76,
     "metadata": {},
     "output_type": "execute_result"
    }
   ],
   "source": [
    "history2.history"
   ]
  },
  {
   "cell_type": "code",
   "execution_count": 92,
   "metadata": {
    "execution": {
     "iopub.execute_input": "2022-12-04T02:56:36.642697Z",
     "iopub.status.busy": "2022-12-04T02:56:36.642335Z",
     "iopub.status.idle": "2022-12-04T02:56:36.884259Z",
     "shell.execute_reply": "2022-12-04T02:56:36.883549Z",
     "shell.execute_reply.started": "2022-12-04T02:56:36.642663Z"
    }
   },
   "outputs": [
    {
     "data": {
      "image/png": "[encoded data removed]",
      "text/plain": [
       "<Figure size 432x288 with 1 Axes>"
      ]
     },
     "metadata": {
      "needs_background": "light"
     },
     "output_type": "display_data"
    }
   ],
   "source": [
    "# Plot\n",
    "history_dict = history2.history\n",
    "loss_values = history_dict['loss']\n",
    "val_loss_values = history_dict['val_loss']\n",
    "plt.plot(range(1, len(loss_values)), loss_values[1:], 'bo', label='Training loss')\n",
    "plt.plot(range(1, len(val_loss_values)), val_loss_values[1:], 'b', label='Validation loss')\n",
    "plt.legend(loc='upper center',frameon=False,ncol=2,bbox_to_anchor=(.5, 1.1))\n",
    "plt.title('Training and validation loss')\n",
    "plt.xlabel('Epochs')\n",
    "plt.ylabel('Loss')\n",
    "plt.legend()\n",
    "plt.show()\n"
   ]
  },
  {
   "cell_type": "code",
   "execution_count": 93,
   "metadata": {
    "execution": {
     "iopub.execute_input": "2022-12-04T02:56:53.432166Z",
     "iopub.status.busy": "2022-12-04T02:56:53.431879Z",
     "iopub.status.idle": "2022-12-04T02:56:53.675084Z",
     "shell.execute_reply": "2022-12-04T02:56:53.674341Z",
     "shell.execute_reply.started": "2022-12-04T02:56:53.432134Z"
    }
   },
   "outputs": [
    {
     "data": {
      "image/png": "[encoded data removed]",
      "text/plain": [
       "<Figure size 432x288 with 1 Axes>"
      ]
     },
     "metadata": {
      "needs_background": "light"
     },
     "output_type": "display_data"
    }
   ],
   "source": [
    "RMSE = history_dict['root_mean_squared_error']\n",
    "val_RMSE = history_dict['val_root_mean_squared_error']\n",
    "plt.plot(range(1, len(RMSE)), RMSE[1:], 'bo', label='Training RMSE')\n",
    "plt.plot(range(1, len(RMSE)), val_RMSE[1:], 'b', label='Validation RMSE')\n",
    "plt.title('Training and validation RMSE')\n",
    "plt.xlabel('Epochs')\n",
    "plt.ylabel('RMSE')\n",
    "plt.legend()\n",
    "plt.show()"
   ]
  },
  {
   "cell_type": "code",
   "execution_count": 67,
   "metadata": {
    "execution": {
     "iopub.execute_input": "2022-12-04T02:07:56.084588Z",
     "iopub.status.busy": "2022-12-04T02:07:56.083942Z",
     "iopub.status.idle": "2022-12-04T02:07:56.103661Z",
     "shell.execute_reply": "2022-12-04T02:07:56.102784Z",
     "shell.execute_reply.started": "2022-12-04T02:07:56.084547Z"
    }
   },
   "outputs": [
    {
     "data": {
      "text/html": [
       "<div>\n",
       "<style scoped>\n",
       "    .dataframe tbody tr th:only-of-type {\n",
       "        vertical-align: middle;\n",
       "    }\n",
       "\n",
       "    .dataframe tbody tr th {\n",
       "        vertical-align: top;\n",
       "    }\n",
       "\n",
       "    .dataframe thead th {\n",
       "        text-align: right;\n",
       "    }\n",
       "</style>\n",
       "<table border=\"1\" class=\"dataframe\">\n",
       "  <thead>\n",
       "    <tr style=\"text-align: right;\">\n",
       "      <th></th>\n",
       "      <th>true_label</th>\n",
       "      <th>file_path</th>\n",
       "      <th>pred_label</th>\n",
       "    </tr>\n",
       "    <tr>\n",
       "      <th>Id</th>\n",
       "      <th></th>\n",
       "      <th></th>\n",
       "      <th></th>\n",
       "    </tr>\n",
       "  </thead>\n",
       "  <tbody>\n",
       "    <tr>\n",
       "      <th>IMG_0969.JPG</th>\n",
       "      <td>0</td>\n",
       "      <td>/kaggle/input/own-tests/IMG_0969.JPG</td>\n",
       "      <td>dog</td>\n",
       "    </tr>\n",
       "    <tr>\n",
       "      <th>IMG_0982.JPG</th>\n",
       "      <td>1</td>\n",
       "      <td>/kaggle/input/own-tests/IMG_0982.JPG</td>\n",
       "      <td>cat</td>\n",
       "    </tr>\n",
       "    <tr>\n",
       "      <th>IMG_0983.JPG</th>\n",
       "      <td>1</td>\n",
       "      <td>/kaggle/input/own-tests/IMG_0983.JPG</td>\n",
       "      <td>cat</td>\n",
       "    </tr>\n",
       "    <tr>\n",
       "      <th>IMG_0968.JPG</th>\n",
       "      <td>0</td>\n",
       "      <td>/kaggle/input/own-tests/IMG_0968.JPG</td>\n",
       "      <td>dog</td>\n",
       "    </tr>\n",
       "    <tr>\n",
       "      <th>IMG_0981.JPG</th>\n",
       "      <td>1</td>\n",
       "      <td>/kaggle/input/own-tests/IMG_0981.JPG</td>\n",
       "      <td>cat</td>\n",
       "    </tr>\n",
       "  </tbody>\n",
       "</table>\n",
       "</div>"
      ],
      "text/plain": [
       "              true_label                             file_path pred_label\n",
       "Id                                                                       \n",
       "IMG_0969.JPG           0  /kaggle/input/own-tests/IMG_0969.JPG        dog\n",
       "IMG_0982.JPG           1  /kaggle/input/own-tests/IMG_0982.JPG        cat\n",
       "IMG_0983.JPG           1  /kaggle/input/own-tests/IMG_0983.JPG        cat\n",
       "IMG_0968.JPG           0  /kaggle/input/own-tests/IMG_0968.JPG        dog\n",
       "IMG_0981.JPG           1  /kaggle/input/own-tests/IMG_0981.JPG        cat"
      ]
     },
     "execution_count": 67,
     "metadata": {},
     "output_type": "execute_result"
    }
   ],
   "source": [
    "df_test = pd.read_csv('/kaggle/input/590-yolo/yolov5.csv', index_col='Id')\n",
    "df_test.drop('Unnamed: 0', axis=1, inplace=True)\n",
    "df_test.head(5)"
   ]
  },
  {
   "cell_type": "code",
   "execution_count": 68,
   "metadata": {
    "execution": {
     "iopub.execute_input": "2022-12-04T02:07:58.777170Z",
     "iopub.status.busy": "2022-12-04T02:07:58.776501Z",
     "iopub.status.idle": "2022-12-04T02:07:58.782108Z",
     "shell.execute_reply": "2022-12-04T02:07:58.781349Z",
     "shell.execute_reply.started": "2022-12-04T02:07:58.777133Z"
    }
   },
   "outputs": [],
   "source": [
    "df_test = df_test.loc[df_test['true_label'] == 1]"
   ]
  },
  {
   "cell_type": "code",
   "execution_count": 69,
   "metadata": {
    "execution": {
     "iopub.execute_input": "2022-12-04T02:08:03.195241Z",
     "iopub.status.busy": "2022-12-04T02:08:03.194955Z",
     "iopub.status.idle": "2022-12-04T02:08:03.212166Z",
     "shell.execute_reply": "2022-12-04T02:08:03.211307Z",
     "shell.execute_reply.started": "2022-12-04T02:08:03.195209Z"
    }
   },
   "outputs": [
    {
     "data": {
      "text/html": [
       "<div>\n",
       "<style scoped>\n",
       "    .dataframe tbody tr th:only-of-type {\n",
       "        vertical-align: middle;\n",
       "    }\n",
       "\n",
       "    .dataframe tbody tr th {\n",
       "        vertical-align: top;\n",
       "    }\n",
       "\n",
       "    .dataframe thead th {\n",
       "        text-align: right;\n",
       "    }\n",
       "</style>\n",
       "<table border=\"1\" class=\"dataframe\">\n",
       "  <thead>\n",
       "    <tr style=\"text-align: right;\">\n",
       "      <th></th>\n",
       "      <th>true_label</th>\n",
       "      <th>file_path</th>\n",
       "      <th>filename</th>\n",
       "    </tr>\n",
       "    <tr>\n",
       "      <th>Id</th>\n",
       "      <th></th>\n",
       "      <th></th>\n",
       "      <th></th>\n",
       "    </tr>\n",
       "  </thead>\n",
       "  <tbody>\n",
       "    <tr>\n",
       "      <th>IMG_0982.JPG</th>\n",
       "      <td>1</td>\n",
       "      <td>/kaggle/input/own-tests/IMG_0982.JPG</td>\n",
       "      <td>IMG_0982.JPG</td>\n",
       "    </tr>\n",
       "    <tr>\n",
       "      <th>IMG_0983.JPG</th>\n",
       "      <td>1</td>\n",
       "      <td>/kaggle/input/own-tests/IMG_0983.JPG</td>\n",
       "      <td>IMG_0983.JPG</td>\n",
       "    </tr>\n",
       "    <tr>\n",
       "      <th>IMG_0981.JPG</th>\n",
       "      <td>1</td>\n",
       "      <td>/kaggle/input/own-tests/IMG_0981.JPG</td>\n",
       "      <td>IMG_0981.JPG</td>\n",
       "    </tr>\n",
       "    <tr>\n",
       "      <th>IMG_0980.JPG</th>\n",
       "      <td>1</td>\n",
       "      <td>/kaggle/input/own-tests/IMG_0980.JPG</td>\n",
       "      <td>IMG_0980.JPG</td>\n",
       "    </tr>\n",
       "    <tr>\n",
       "      <th>IMG_0984.JPG</th>\n",
       "      <td>1</td>\n",
       "      <td>/kaggle/input/own-tests/IMG_0984.JPG</td>\n",
       "      <td>IMG_0984.JPG</td>\n",
       "    </tr>\n",
       "  </tbody>\n",
       "</table>\n",
       "</div>"
      ],
      "text/plain": [
       "              true_label                             file_path      filename\n",
       "Id                                                                          \n",
       "IMG_0982.JPG           1  /kaggle/input/own-tests/IMG_0982.JPG  IMG_0982.JPG\n",
       "IMG_0983.JPG           1  /kaggle/input/own-tests/IMG_0983.JPG  IMG_0983.JPG\n",
       "IMG_0981.JPG           1  /kaggle/input/own-tests/IMG_0981.JPG  IMG_0981.JPG\n",
       "IMG_0980.JPG           1  /kaggle/input/own-tests/IMG_0980.JPG  IMG_0980.JPG\n",
       "IMG_0984.JPG           1  /kaggle/input/own-tests/IMG_0984.JPG  IMG_0984.JPG"
      ]
     },
     "execution_count": 69,
     "metadata": {},
     "output_type": "execute_result"
    }
   ],
   "source": [
    "df_test['filename'] = df_test.index\n",
    "df_test.drop('pred_label', axis=1, inplace=True)\n",
    "df_test.head(5)"
   ]
  },
  {
   "cell_type": "code",
   "execution_count": 70,
   "metadata": {
    "execution": {
     "iopub.execute_input": "2022-12-04T02:08:07.721124Z",
     "iopub.status.busy": "2022-12-04T02:08:07.720496Z",
     "iopub.status.idle": "2022-12-04T02:08:07.726065Z",
     "shell.execute_reply": "2022-12-04T02:08:07.725349Z",
     "shell.execute_reply.started": "2022-12-04T02:08:07.721086Z"
    }
   },
   "outputs": [],
   "source": [
    "df_test.drop('file_path', axis=1, inplace=True)"
   ]
  },
  {
   "cell_type": "code",
   "execution_count": 71,
   "metadata": {
    "execution": {
     "iopub.execute_input": "2022-12-04T02:08:10.291595Z",
     "iopub.status.busy": "2022-12-04T02:08:10.290955Z",
     "iopub.status.idle": "2022-12-04T02:08:10.321058Z",
     "shell.execute_reply": "2022-12-04T02:08:10.320262Z",
     "shell.execute_reply.started": "2022-12-04T02:08:10.291557Z"
    }
   },
   "outputs": [
    {
     "name": "stdout",
     "output_type": "stream",
     "text": [
      "Found 15 validated image filenames.\n"
     ]
    }
   ],
   "source": [
    "test_generator = datagen.flow_from_dataframe(dataframe=df_test,\n",
    "                                             directory=Path('/kaggle/input/own-tests'), \n",
    "                                             x_col='filename',\n",
    "                                             y_col=None,\n",
    "                                             batch_size=32,\n",
    "                                             seed=42,\n",
    "                                             shuffle=False,\n",
    "                                             class_mode=None,\n",
    "                                             target_size=(224, 224)\n",
    "                                            )"
   ]
  },
  {
   "cell_type": "code",
   "execution_count": 72,
   "metadata": {
    "execution": {
     "iopub.execute_input": "2022-12-04T02:08:49.559406Z",
     "iopub.status.busy": "2022-12-04T02:08:49.559105Z",
     "iopub.status.idle": "2022-12-04T02:08:51.839319Z",
     "shell.execute_reply": "2022-12-04T02:08:51.838602Z",
     "shell.execute_reply.started": "2022-12-04T02:08:49.559375Z"
    }
   },
   "outputs": [
    {
     "name": "stdout",
     "output_type": "stream",
     "text": [
      "1/1 [==============================] - 1s 1s/step\n"
     ]
    }
   ],
   "source": [
    "yhat_test = model.predict(test_generator, verbose=1)"
   ]
  },
  {
   "cell_type": "code",
   "execution_count": 73,
   "metadata": {
    "execution": {
     "iopub.execute_input": "2022-12-04T02:09:24.934009Z",
     "iopub.status.busy": "2022-12-04T02:09:24.933680Z",
     "iopub.status.idle": "2022-12-04T02:09:24.941320Z",
     "shell.execute_reply": "2022-12-04T02:09:24.940454Z",
     "shell.execute_reply.started": "2022-12-04T02:09:24.933974Z"
    }
   },
   "outputs": [
    {
     "data": {
      "text/plain": [
       "array([[34.23224 ],\n",
       "       [34.030384],\n",
       "       [33.422684],\n",
       "       [33.744762],\n",
       "       [33.62027 ],\n",
       "       [34.939392],\n",
       "       [35.084366],\n",
       "       [34.77715 ],\n",
       "       [32.284573],\n",
       "       [38.78756 ],\n",
       "       [35.304672],\n",
       "       [36.663284],\n",
       "       [36.99951 ],\n",
       "       [36.36168 ],\n",
       "       [34.788887]], dtype=float32)"
      ]
     },
     "execution_count": 73,
     "metadata": {},
     "output_type": "execute_result"
    }
   ],
   "source": [
    "yhat_test "
   ]
  },
  {
   "cell_type": "code",
   "execution_count": 74,
   "metadata": {
    "execution": {
     "iopub.execute_input": "2022-12-04T02:09:50.870294Z",
     "iopub.status.busy": "2022-12-04T02:09:50.869979Z",
     "iopub.status.idle": "2022-12-04T02:09:50.884763Z",
     "shell.execute_reply": "2022-12-04T02:09:50.883834Z",
     "shell.execute_reply.started": "2022-12-04T02:09:50.870261Z"
    }
   },
   "outputs": [
    {
     "data": {
      "text/html": [
       "<div>\n",
       "<style scoped>\n",
       "    .dataframe tbody tr th:only-of-type {\n",
       "        vertical-align: middle;\n",
       "    }\n",
       "\n",
       "    .dataframe tbody tr th {\n",
       "        vertical-align: top;\n",
       "    }\n",
       "\n",
       "    .dataframe thead th {\n",
       "        text-align: right;\n",
       "    }\n",
       "</style>\n",
       "<table border=\"1\" class=\"dataframe\">\n",
       "  <thead>\n",
       "    <tr style=\"text-align: right;\">\n",
       "      <th></th>\n",
       "      <th>Id</th>\n",
       "      <th>Pawpularity</th>\n",
       "    </tr>\n",
       "  </thead>\n",
       "  <tbody>\n",
       "    <tr>\n",
       "      <th>0</th>\n",
       "      <td>IMG_0982.JPG</td>\n",
       "      <td>34.232239</td>\n",
       "    </tr>\n",
       "    <tr>\n",
       "      <th>1</th>\n",
       "      <td>IMG_0983.JPG</td>\n",
       "      <td>34.030384</td>\n",
       "    </tr>\n",
       "    <tr>\n",
       "      <th>2</th>\n",
       "      <td>IMG_0981.JPG</td>\n",
       "      <td>33.422684</td>\n",
       "    </tr>\n",
       "    <tr>\n",
       "      <th>3</th>\n",
       "      <td>IMG_0980.JPG</td>\n",
       "      <td>33.744762</td>\n",
       "    </tr>\n",
       "    <tr>\n",
       "      <th>4</th>\n",
       "      <td>IMG_0984.JPG</td>\n",
       "      <td>33.620270</td>\n",
       "    </tr>\n",
       "  </tbody>\n",
       "</table>\n",
       "</div>"
      ],
      "text/plain": [
       "             Id  Pawpularity\n",
       "0  IMG_0982.JPG    34.232239\n",
       "1  IMG_0983.JPG    34.030384\n",
       "2  IMG_0981.JPG    33.422684\n",
       "3  IMG_0980.JPG    33.744762\n",
       "4  IMG_0984.JPG    33.620270"
      ]
     },
     "execution_count": 74,
     "metadata": {},
     "output_type": "execute_result"
    }
   ],
   "source": [
    "frames = [\n",
    "    pd.Series(df_test.index.values, name='Id'),\n",
    "    pd.Series(yhat_test.ravel(), name='Pawpularity')\n",
    "]\n",
    "submission = pd.concat(frames, axis=1)\n",
    "submission.head()"
   ]
  },
  {
   "cell_type": "code",
   "execution_count": 91,
   "metadata": {
    "execution": {
     "iopub.execute_input": "2022-12-04T02:49:24.062106Z",
     "iopub.status.busy": "2022-12-04T02:49:24.061803Z",
     "iopub.status.idle": "2022-12-04T02:49:24.078128Z",
     "shell.execute_reply": "2022-12-04T02:49:24.076948Z",
     "shell.execute_reply.started": "2022-12-04T02:49:24.062072Z"
    }
   },
   "outputs": [
    {
     "data": {
      "text/html": [
       "<div>\n",
       "<style scoped>\n",
       "    .dataframe tbody tr th:only-of-type {\n",
       "        vertical-align: middle;\n",
       "    }\n",
       "\n",
       "    .dataframe tbody tr th {\n",
       "        vertical-align: top;\n",
       "    }\n",
       "\n",
       "    .dataframe thead th {\n",
       "        text-align: right;\n",
       "    }\n",
       "</style>\n",
       "<table border=\"1\" class=\"dataframe\">\n",
       "  <thead>\n",
       "    <tr style=\"text-align: right;\">\n",
       "      <th></th>\n",
       "      <th>Id</th>\n",
       "      <th>Pawpularity</th>\n",
       "    </tr>\n",
       "  </thead>\n",
       "  <tbody>\n",
       "    <tr>\n",
       "      <th>9</th>\n",
       "      <td>WechatIMG825.JPG</td>\n",
       "      <td>38.787560</td>\n",
       "    </tr>\n",
       "    <tr>\n",
       "      <th>12</th>\n",
       "      <td>IMG_0972.JPG</td>\n",
       "      <td>36.999512</td>\n",
       "    </tr>\n",
       "    <tr>\n",
       "      <th>11</th>\n",
       "      <td>WechatIMG826.JPG</td>\n",
       "      <td>36.663284</td>\n",
       "    </tr>\n",
       "    <tr>\n",
       "      <th>13</th>\n",
       "      <td>IMG_0973.JPG</td>\n",
       "      <td>36.361679</td>\n",
       "    </tr>\n",
       "    <tr>\n",
       "      <th>10</th>\n",
       "      <td>IMG_0975.JPG</td>\n",
       "      <td>35.304672</td>\n",
       "    </tr>\n",
       "    <tr>\n",
       "      <th>6</th>\n",
       "      <td>IMG_0979.JPG</td>\n",
       "      <td>35.084366</td>\n",
       "    </tr>\n",
       "    <tr>\n",
       "      <th>5</th>\n",
       "      <td>IMG_0985.JPG</td>\n",
       "      <td>34.939392</td>\n",
       "    </tr>\n",
       "    <tr>\n",
       "      <th>14</th>\n",
       "      <td>WechatIMG823.JPG</td>\n",
       "      <td>34.788887</td>\n",
       "    </tr>\n",
       "    <tr>\n",
       "      <th>7</th>\n",
       "      <td>IMG_0974.JPG</td>\n",
       "      <td>34.777149</td>\n",
       "    </tr>\n",
       "    <tr>\n",
       "      <th>0</th>\n",
       "      <td>IMG_0982.JPG</td>\n",
       "      <td>34.232239</td>\n",
       "    </tr>\n",
       "    <tr>\n",
       "      <th>1</th>\n",
       "      <td>IMG_0983.JPG</td>\n",
       "      <td>34.030384</td>\n",
       "    </tr>\n",
       "    <tr>\n",
       "      <th>3</th>\n",
       "      <td>IMG_0980.JPG</td>\n",
       "      <td>33.744762</td>\n",
       "    </tr>\n",
       "    <tr>\n",
       "      <th>4</th>\n",
       "      <td>IMG_0984.JPG</td>\n",
       "      <td>33.620270</td>\n",
       "    </tr>\n",
       "    <tr>\n",
       "      <th>2</th>\n",
       "      <td>IMG_0981.JPG</td>\n",
       "      <td>33.422684</td>\n",
       "    </tr>\n",
       "    <tr>\n",
       "      <th>8</th>\n",
       "      <td>WechatIMG824.JPG</td>\n",
       "      <td>32.284573</td>\n",
       "    </tr>\n",
       "  </tbody>\n",
       "</table>\n",
       "</div>"
      ],
      "text/plain": [
       "                  Id  Pawpularity\n",
       "9   WechatIMG825.JPG    38.787560\n",
       "12      IMG_0972.JPG    36.999512\n",
       "11  WechatIMG826.JPG    36.663284\n",
       "13      IMG_0973.JPG    36.361679\n",
       "10      IMG_0975.JPG    35.304672\n",
       "6       IMG_0979.JPG    35.084366\n",
       "5       IMG_0985.JPG    34.939392\n",
       "14  WechatIMG823.JPG    34.788887\n",
       "7       IMG_0974.JPG    34.777149\n",
       "0       IMG_0982.JPG    34.232239\n",
       "1       IMG_0983.JPG    34.030384\n",
       "3       IMG_0980.JPG    33.744762\n",
       "4       IMG_0984.JPG    33.620270\n",
       "2       IMG_0981.JPG    33.422684\n",
       "8   WechatIMG824.JPG    32.284573"
      ]
     },
     "execution_count": 91,
     "metadata": {},
     "output_type": "execute_result"
    }
   ],
   "source": [
    "submission.sort_values(by=['Pawpularity'], ascending=False)"
   ]
  }
 ],
 "metadata": {
  "kernelspec": {
   "display_name": "Python 3",
   "language": "python",
   "name": "python3"
  },
  "language_info": {
   "codemirror_mode": {
    "name": "ipython",
    "version": 3
   },
   "file_extension": ".py",
   "mimetype": "text/x-python",
   "name": "python",
   "nbconvert_exporter": "python",
   "pygments_lexer": "ipython3",
   "version": "3.8.8"
  }
 },
 "nbformat": 4,
 "nbformat_minor": 4
}
