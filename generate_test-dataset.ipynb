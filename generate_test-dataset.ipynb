{
 "cells": [
  {
   "cell_type": "code",
   "execution_count": 1,
   "metadata": {},
   "outputs": [],
   "source": [
    "import os\n",
    "import pandas as pd"
   ]
  },
  {
   "cell_type": "code",
   "execution_count": 2,
   "metadata": {},
   "outputs": [],
   "source": [
    "name = []\n",
    "for i in os.walk('/Users/yudichen/Desktop/GU/ANLY 590/Pawpularity/test_cat_dog'): \n",
    "    a,b,c = i\n",
    "    for j in c:\n",
    "        if 'JPG' in j:\n",
    "            name.append(j)"
   ]
  },
  {
   "cell_type": "code",
   "execution_count": 3,
   "metadata": {},
   "outputs": [
    {
     "data": {
      "text/plain": [
       "['IMG_0969.JPG',\n",
       " 'IMG_0982.JPG',\n",
       " 'IMG_0983.JPG',\n",
       " 'IMG_0968.JPG',\n",
       " 'IMG_0981.JPG',\n",
       " 'IMG_0980.JPG',\n",
       " 'IMG_0984.JPG',\n",
       " 'IMG_0985.JPG',\n",
       " 'IMG_0978.JPG',\n",
       " 'IMG_0979.JPG',\n",
       " 'WechatIMG829.JPG',\n",
       " 'pexels-anna-shvets-4587992.JPG',\n",
       " 'IMG_7930.JPG',\n",
       " 'IMG_0974.JPG',\n",
       " 'WechatIMG830.JPG',\n",
       " 'WechatIMG824.JPG',\n",
       " 'WechatIMG825.JPG',\n",
       " 'IMG_0975.JPG',\n",
       " 'IMG_0977.JPG',\n",
       " 'IMG_9365.JPG',\n",
       " 'WechatIMG826.JPG',\n",
       " 'IMG_0972.JPG',\n",
       " 'IMG_0973.JPG',\n",
       " 'WechatIMG823.JPG',\n",
       " 'IMG_0967.JPG',\n",
       " 'IMG_0971.JPG',\n",
       " 'WechatIMG821.JPG',\n",
       " 'IMG_8451.JPG',\n",
       " 'IMG_0970.JPG']"
      ]
     },
     "execution_count": 3,
     "metadata": {},
     "output_type": "execute_result"
    }
   ],
   "source": [
    "name"
   ]
  },
  {
   "cell_type": "code",
   "execution_count": 4,
   "metadata": {},
   "outputs": [],
   "source": [
    "directory = pd.DataFrame()\n",
    "directory['Id'] = name\n",
    "#directory['classification'] = None"
   ]
  },
  {
   "cell_type": "code",
   "execution_count": 5,
   "metadata": {},
   "outputs": [],
   "source": [
    "directory.to_csv(\"test.csv\", index=False)"
   ]
  }
 ],
 "metadata": {
  "kernelspec": {
   "display_name": "Python 3.9.7 ('base')",
   "language": "python",
   "name": "python3"
  },
  "language_info": {
   "codemirror_mode": {
    "name": "ipython",
    "version": 3
   },
   "file_extension": ".py",
   "mimetype": "text/x-python",
   "name": "python",
   "nbconvert_exporter": "python",
   "pygments_lexer": "ipython3",
   "version": "3.9.7"
  },
  "orig_nbformat": 4,
  "vscode": {
   "interpreter": {
    "hash": "89280296d4636286ebfd7938e30d03fd6ad0710de86c7c4ea3a1c105f35e8593"
   }
  }
 },
 "nbformat": 4,
 "nbformat_minor": 2
}
